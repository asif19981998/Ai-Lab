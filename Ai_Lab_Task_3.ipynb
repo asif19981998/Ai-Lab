{
  "nbformat": 4,
  "nbformat_minor": 0,
  "metadata": {
    "colab": {
      "name": "Ai_Lab_Task-3.ipynb",
      "provenance": [],
      "authorship_tag": "ABX9TyPn8CutzUS6c2jo3cP+/23x",
      "include_colab_link": true
    },
    "kernelspec": {
      "name": "python3",
      "display_name": "Python 3"
    }
  },
  "cells": [
    {
      "cell_type": "markdown",
      "metadata": {
        "id": "view-in-github",
        "colab_type": "text"
      },
      "source": [
        "<a href=\"https://colab.research.google.com/github/NabidHasan/LabTask-3/blob/main/Ai_Lab_Task_3.ipynb\" target=\"_parent\"><img src=\"https://colab.research.google.com/assets/colab-badge.svg\" alt=\"Open In Colab\"/></a>"
      ]
    },
    {
      "cell_type": "code",
      "metadata": {
        "id": "JQWAsENdDgT2"
      },
      "source": [
        "name_of_course = []\r\n",
        "name_of_coursecode = []"
      ],
      "execution_count": 11,
      "outputs": []
    },
    {
      "cell_type": "code",
      "metadata": {
        "colab": {
          "base_uri": "https://localhost:8080/"
        },
        "id": "MpGA-MCaDlZQ",
        "outputId": "11689517-3b63-47ca-d6bc-2811bd21755c"
      },
      "source": [
        "def showdashboard():\r\n",
        "  print(\"     This your dashboard for keep tracking of your semister course\")\r\n",
        "  print(\"|-------------------------- Menu --------------------------------------|\")\r\n",
        "  print(\"       Type 1 for show your registerd course\")\r\n",
        "  print(\"             Type 2 for Add course\")\r\n",
        "  print('             Type 3  for remove course')\r\n",
        "\r\n",
        "showdashboard()\r\n",
        "show_your_registerd_course()"
      ],
      "execution_count": 12,
      "outputs": [
        {
          "output_type": "stream",
          "text": [
            "     This your dashboard for keep tracking of your semister course\n",
            "|----------------------------------------------------------------------|\n",
            "|-------------------------- Menu --------------------------------------|\n",
            "|----------------------------------------------------------------------|\n",
            "       Type 1 and press Enter for show your registerd course\n",
            "              Type 2 and press Enter for Add course\n",
            "             Type 3 and press Enter for remove course\n",
            "\n",
            "No course in your list\n"
          ],
          "name": "stdout"
        }
      ]
    },
    {
      "cell_type": "code",
      "metadata": {
        "id": "AzS5LTTSDore"
      },
      "source": [
        "def show_your_registerd_course():\r\n",
        "  print()\r\n",
        "  if len(name_of_coursecode) == 0:\r\n",
        "    print(\"No course in your list\")\r\n",
        "  else:\r\n",
        "    print(\"\\nID ---  Name_Of_Course --- Name_Of_Coursecode\")\r\n",
        "    for id, course in enumerate(name_of_course):\r\n",
        "      print(f\"{id+1} --- {course} --- {name_of_coursecode[id]}\")"
      ],
      "execution_count": 13,
      "outputs": []
    },
    {
      "cell_type": "code",
      "metadata": {
        "id": "G58vuxG4DouO"
      },
      "source": [
        "def add_course(code, name):\r\n",
        "  course_code.append(code)\r\n",
        "  course_name.append(name)\r\n",
        "  show_your_registerd_course()"
      ],
      "execution_count": 14,
      "outputs": []
    },
    {
      "cell_type": "code",
      "metadata": {
        "id": "hTU4AiZxDoxO"
      },
      "source": [
        "def remove_course(index):\r\n",
        "  course_code.pop(index)\r\n",
        "  course_name.pop(index)\r\n",
        "  show_your_registerd_course()"
      ],
      "execution_count": 15,
      "outputs": []
    },
    {
      "cell_type": "code",
      "metadata": {
        "colab": {
          "base_uri": "https://localhost:8080/"
        },
        "id": "zndd7Yu7Do5s",
        "outputId": "a4f6071a-a66a-467d-e136-901037600c2e"
      },
      "source": [
        "def main_page():\r\n",
        "  choice = int(input(\"Enter your choice: \"))\r\n",
        "  if choice == 1:\r\n",
        "    show_your_registerd_course()\r\n",
        "  elif choice == 2:\r\n",
        "    name = input(\"Enter your course name: \")\r\n",
        "    code = input(\"Enter your course code: \")\r\n",
        "    add_course(code, name)\r\n",
        "  elif choice == 3:\r\n",
        "    index = int(input(\"Enter course id: \"))\r\n",
        "    remove_course(index-1)\r\n",
        "  else:\r\n",
        "    print(\"Please insert a valid Input.\")\r\n",
        "    main_page()\r\n",
        "main_page()"
      ],
      "execution_count": 26,
      "outputs": [
        {
          "output_type": "stream",
          "text": [
            "Enter your choice: 1\n",
            "\n",
            "\n",
            "ID ---  Course Name --- Course Code\n",
            "1 --- Web Engineering --- CSE414\n",
            "2 --- Ai_Lab --- CSE415\n",
            "3 --- Algorithm --- CSE223\n"
          ],
          "name": "stdout"
        }
      ]
    }
  ]
}